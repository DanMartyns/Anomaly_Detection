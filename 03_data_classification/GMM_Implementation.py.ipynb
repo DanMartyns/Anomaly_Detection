{
 "cells": [
  {
   "cell_type": "code",
   "execution_count": 12,
   "metadata": {},
   "outputs": [],
   "source": [
    "# Import libraries\n",
    "import argparse"
   ]
  },
  {
   "cell_type": "code",
   "execution_count": 13,
   "metadata": {},
   "outputs": [],
   "source": [
    "def readFileToMatrix(files) :\n",
    "    assert len(files) > 0\n",
    "    \n",
    "    matrix = []\n",
    "    for f in files:\n",
    "        fb = open(f, \"rb\")\n",
    "        try:\n",
    "            while True:\n",
    "                # read each line of the file\n",
    "                record=fb.read(152)\n",
    "                \n",
    "                # break when the line was empty\n",
    "                if(len(record) < 152): break\n",
    "                \n",
    "                # unpack the record\n",
    "                line = list(struct.unpack('=19d',record))\n",
    "\n",
    "                # append the line to matrix\n",
    "                matrix.append(line)\n",
    "    \n",
    "        finally:\n",
    "            fb.close()\n",
    "\n",
    "    matrix = np.array(matrix)\n",
    "    return matrix"
   ]
  },
  {
   "cell_type": "code",
   "execution_count": 14,
   "metadata": {},
   "outputs": [],
   "source": [
    "def main():\n",
    "\n",
    "    parser = argparse.ArgumentParser()\n",
    "    # Read from files\n",
    "    parser.add_argument(\"-f\", \"--files\", nargs='+')\n",
    "    # Read from an directory\n",
    "    parser.add_argument(\"-d\", \"--directory\", nargs='+')\n",
    "    # Wildcard to detect what is normal\n",
    "    parser.add_argument(\"-w\", \"--wildcard\", required=True)\n",
    "    # Number of components to test\n",
    "    parser.add_argument('-n','--n_components', type=int, required=True)\n",
    "    # Assure at least one type of this capture goes to training\n",
    "    parser.add_argument(\"-a\", \"--assure\", nargs='+')\n",
    "    # Wants to export files\n",
    "    parser.add_argument(\"-e\",\"--export\",  action='store_true')\n",
    "    # Print confusion matrix for each algorithm\n",
    "    parser.add_argument(\"-v\",\"--verbose\",  action='store_true')\n",
    "    args=parser.parse_args()\n",
    "\n",
    "    if not (args.files or args.directory):\n",
    "        parser.error(\"No files given, add --files or --directory.\")\n",
    "\n",
    "    if not args.files:\n",
    "        args.files = []\n",
    "\n",
    "    # get all filenames from directory\n",
    "    if args.directory:\n",
    "        for dir in args.directory:\n",
    "            for r, d, f in os.walk(dir):\n",
    "                for file in f:\n",
    "                    if \".dat\" in file:\n",
    "                        args.files.append(os.path.join(r, file))\n",
    "\n",
    "    train_files = []\n",
    "    anomaly_test_files = []\n",
    "    regular_test_files = []\n",
    "\n",
    "    # divide filenames in normal or anomaly\n",
    "    for f in args.files:\n",
    "        if args.wildcard in f:\n",
    "            train_files.append(f)\n",
    "        else:\n",
    "            anomaly_test_files.append(f)\n",
    "    \n",
    "    score = []\n",
    "    flag = True\n",
    "    \n",
    "    # begin process of deciding test and train files\n",
    "    ratio = 0.8\n",
    "    split = math.floor(ratio*len(train_files))\n",
    "\n",
    "    if split > 0:\n",
    "        while len(train_files) > split:\n",
    "            random.shuffle(train_files)\n",
    "            regular_test_files.append(train_files.pop(0))\n",
    "\n",
    "    train_data = readFileToMatrix(train_files)"
   ]
  },
  {
   "cell_type": "code",
   "execution_count": 15,
   "metadata": {},
   "outputs": [
    {
     "name": "stderr",
     "output_type": "stream",
     "text": [
      "usage: ipykernel_launcher.py [-h] [-f FILES [FILES ...]]\n",
      "                             [-d DIRECTORY [DIRECTORY ...]] -w WILDCARD -n\n",
      "                             N_COMPONENTS [-a ASSURE [ASSURE ...]] [-e] [-v]\n",
      "ipykernel_launcher.py: error: the following arguments are required: -w/--wildcard, -n/--n_components\n"
     ]
    },
    {
     "ename": "SystemExit",
     "evalue": "2",
     "output_type": "error",
     "traceback": [
      "An exception has occurred, use %tb to see the full traceback.\n",
      "\u001b[0;31mSystemExit\u001b[0m\u001b[0;31m:\u001b[0m 2\n"
     ]
    },
    {
     "name": "stderr",
     "output_type": "stream",
     "text": [
      "/home/danielmartins/.local/lib/python3.6/site-packages/IPython/core/interactiveshell.py:3351: UserWarning: To exit: use 'exit', 'quit', or Ctrl-D.\n",
      "  warn(\"To exit: use 'exit', 'quit', or Ctrl-D.\", stacklevel=1)\n"
     ]
    }
   ],
   "source": [
    "if __name__ == '__main__':\n",
    "    main()"
   ]
  },
  {
   "cell_type": "code",
   "execution_count": null,
   "metadata": {},
   "outputs": [],
   "source": []
  }
 ],
 "metadata": {
  "kernelspec": {
   "display_name": "Python 3",
   "language": "python",
   "name": "python3"
  },
  "language_info": {
   "codemirror_mode": {
    "name": "ipython",
    "version": 3
   },
   "file_extension": ".py",
   "mimetype": "text/x-python",
   "name": "python",
   "nbconvert_exporter": "python",
   "pygments_lexer": "ipython3",
   "version": "3.6.9"
  }
 },
 "nbformat": 4,
 "nbformat_minor": 4
}
